{
  "nbformat": 4,
  "nbformat_minor": 0,
  "metadata": {
    "colab": {
      "name": "Inverse Kinematics.ipynb",
      "provenance": [],
      "machine_shape": "hm",
      "authorship_tag": "ABX9TyPvlyhSeZhQxXw2zrYtGW3d"
    },
    "kernelspec": {
      "name": "python3",
      "display_name": "Python 3"
    },
    "accelerator": "GPU"
  },
  "cells": [
    {
      "cell_type": "code",
      "metadata": {
        "id": "DaNnOGsWstb_",
        "colab_type": "code",
        "colab": {}
      },
      "source": [
        "from sympy import symbols, cos, sin, atan, acos,sqrt, Function\n",
        "t = symbols('t')\n",
        "x = Function('x')(t)\n",
        "y = Function('y')(t)\n",
        "z = Function('z')(t)\n",
        "ang1 = Function('ang1')(t)\n",
        "ang2 = Function('ang2')(t)\n",
        "ang3 = Function('ang3')(t)\n",
        "    \n",
        "def inverse3dof (a1,a2,a3):\n",
        "    phi1,phi2,phi3, r1,r2,r3 = symbols('phi1,phi2,phi3, r1,r2,r3')\n",
        "\n",
        "    r1 = sqrt(x**2+y**2)\n",
        "    r2 = z-a1\n",
        "    r3 = sqrt(r1**2+r2**2)\n",
        "\n",
        "    phi1 = acos((a3**2-a2**2-r3**2)/(-2*a2*r3))\n",
        "    phi2 = atan(r2/r1)\n",
        "    phi3 = acos((r3**2-a2**2-a3**2)/(-2*a2*a3))\n",
        "\n",
        "    ang1 = atan(x/y)\n",
        "    ang2 = phi1-phi2\n",
        "    ang3 = 180-phi3\n",
        "    return ang1,ang2,ang3\n",
        "    "
      ],
      "execution_count": 0,
      "outputs": []
    }
  ]
}